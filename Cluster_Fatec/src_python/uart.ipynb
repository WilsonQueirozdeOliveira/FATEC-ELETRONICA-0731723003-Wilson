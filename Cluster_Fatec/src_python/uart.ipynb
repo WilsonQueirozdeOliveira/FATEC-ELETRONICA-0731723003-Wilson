{
 "cells": [
  {
   "cell_type": "code",
   "execution_count": 1,
   "metadata": {},
   "outputs": [
    {
     "name": "stdout",
     "output_type": "stream",
     "text": [
      "COM3\n"
     ]
    }
   ],
   "source": [
    "import serial\n",
    "ser = serial.Serial('COM3')  # open serial port\n",
    "print(ser.name)         # check which port was really used\n",
    "ser.write(b'hello')     # write a string\n",
    "ser.close()             # close port"
   ]
  },
  {
   "cell_type": "code",
   "execution_count": 2,
   "metadata": {},
   "outputs": [
    {
     "name": "stdout",
     "output_type": "stream",
     "text": [
      "COM3\n"
     ]
    }
   ],
   "source": [
    "ser = serial.Serial('COM3')  # open serial port\n",
    "print(ser.name)         # check which port was really used\n",
    "ser.write(b'test')     # write a string\n",
    "ser.close()             # close port"
   ]
  }
 ],
 "metadata": {
  "kernelspec": {
   "display_name": "Python 3",
   "language": "python",
   "name": "python3"
  },
  "language_info": {
   "codemirror_mode": {
    "name": "ipython",
    "version": 3
   },
   "file_extension": ".py",
   "mimetype": "text/x-python",
   "name": "python",
   "nbconvert_exporter": "python",
   "pygments_lexer": "ipython3",
   "version": "3.8.3"
  }
 },
 "nbformat": 4,
 "nbformat_minor": 4
}
